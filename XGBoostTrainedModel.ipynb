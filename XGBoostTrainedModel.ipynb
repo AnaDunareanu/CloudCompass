{
  "cells": [
    {
      "cell_type": "code",
      "execution_count": null,
      "id": "eebf4c8f-b2ae-48b7-be10-af9f912581bb",
      "metadata": {
        "id": "eebf4c8f-b2ae-48b7-be10-af9f912581bb"
      },
      "outputs": [],
      "source": [
        "import pandas as pd\n",
        "import numpy as np\n",
        "import os"
      ]
    },
    {
      "cell_type": "code",
      "execution_count": null,
      "id": "82a1b0b0-8746-455c-8f1b-863b2da9a528",
      "metadata": {
        "id": "82a1b0b0-8746-455c-8f1b-863b2da9a528"
      },
      "outputs": [],
      "source": [
        "ROOT_DIR = \".\""
      ]
    },
    {
      "cell_type": "code",
      "execution_count": null,
      "id": "13f14893-5d71-4889-9b9b-057ffebf03b2",
      "metadata": {
        "id": "13f14893-5d71-4889-9b9b-057ffebf03b2",
        "outputId": "0ca3ac88-c70f-4f22-b6f1-c9d168ba66e2"
      },
      "outputs": [
        {
          "data": {
            "text/html": [
              "<div>\n",
              "<style scoped>\n",
              "    .dataframe tbody tr th:only-of-type {\n",
              "        vertical-align: middle;\n",
              "    }\n",
              "\n",
              "    .dataframe tbody tr th {\n",
              "        vertical-align: top;\n",
              "    }\n",
              "\n",
              "    .dataframe thead th {\n",
              "        text-align: right;\n",
              "    }\n",
              "</style>\n",
              "<table border=\"1\" class=\"dataframe\">\n",
              "  <thead>\n",
              "    <tr style=\"text-align: right;\">\n",
              "      <th></th>\n",
              "      <th>ItinID</th>\n",
              "      <th>MktID</th>\n",
              "      <th>Year</th>\n",
              "      <th>Quarter</th>\n",
              "      <th>Origin</th>\n",
              "      <th>Dest</th>\n",
              "      <th>Miles</th>\n",
              "      <th>NumTicketsOrdered</th>\n",
              "      <th>AirlineCompany</th>\n",
              "      <th>PricePerTicket</th>\n",
              "    </tr>\n",
              "  </thead>\n",
              "  <tbody>\n",
              "    <tr>\n",
              "      <th>0</th>\n",
              "      <td>202241227487</td>\n",
              "      <td>20224122748701</td>\n",
              "      <td>2022</td>\n",
              "      <td>4</td>\n",
              "      <td>TPA</td>\n",
              "      <td>PHX</td>\n",
              "      <td>1788.0</td>\n",
              "      <td>18.0</td>\n",
              "      <td>AA</td>\n",
              "      <td>248.50</td>\n",
              "    </tr>\n",
              "    <tr>\n",
              "      <th>1</th>\n",
              "      <td>202241227487</td>\n",
              "      <td>20224122748702</td>\n",
              "      <td>2022</td>\n",
              "      <td>4</td>\n",
              "      <td>PHX</td>\n",
              "      <td>TPA</td>\n",
              "      <td>1788.0</td>\n",
              "      <td>18.0</td>\n",
              "      <td>AA</td>\n",
              "      <td>248.50</td>\n",
              "    </tr>\n",
              "    <tr>\n",
              "      <th>2</th>\n",
              "      <td>202241227488</td>\n",
              "      <td>20224122748801</td>\n",
              "      <td>2022</td>\n",
              "      <td>4</td>\n",
              "      <td>TPA</td>\n",
              "      <td>PHX</td>\n",
              "      <td>1788.0</td>\n",
              "      <td>1.0</td>\n",
              "      <td>AA</td>\n",
              "      <td>249.00</td>\n",
              "    </tr>\n",
              "    <tr>\n",
              "      <th>3</th>\n",
              "      <td>202241227488</td>\n",
              "      <td>20224122748802</td>\n",
              "      <td>2022</td>\n",
              "      <td>4</td>\n",
              "      <td>PHX</td>\n",
              "      <td>TPA</td>\n",
              "      <td>1788.0</td>\n",
              "      <td>1.0</td>\n",
              "      <td>AA</td>\n",
              "      <td>249.00</td>\n",
              "    </tr>\n",
              "    <tr>\n",
              "      <th>4</th>\n",
              "      <td>202241227489</td>\n",
              "      <td>20224122748901</td>\n",
              "      <td>2022</td>\n",
              "      <td>4</td>\n",
              "      <td>TPA</td>\n",
              "      <td>PHX</td>\n",
              "      <td>1788.0</td>\n",
              "      <td>1.0</td>\n",
              "      <td>AA</td>\n",
              "      <td>250.00</td>\n",
              "    </tr>\n",
              "    <tr>\n",
              "      <th>...</th>\n",
              "      <td>...</td>\n",
              "      <td>...</td>\n",
              "      <td>...</td>\n",
              "      <td>...</td>\n",
              "      <td>...</td>\n",
              "      <td>...</td>\n",
              "      <td>...</td>\n",
              "      <td>...</td>\n",
              "      <td>...</td>\n",
              "      <td>...</td>\n",
              "    </tr>\n",
              "    <tr>\n",
              "      <th>23477640</th>\n",
              "      <td>202341141156</td>\n",
              "      <td>20234114115602</td>\n",
              "      <td>2023</td>\n",
              "      <td>4</td>\n",
              "      <td>DFW</td>\n",
              "      <td>SDF</td>\n",
              "      <td>733.0</td>\n",
              "      <td>2.0</td>\n",
              "      <td>AA</td>\n",
              "      <td>670.50</td>\n",
              "    </tr>\n",
              "    <tr>\n",
              "      <th>23477641</th>\n",
              "      <td>202341141157</td>\n",
              "      <td>20234114115701</td>\n",
              "      <td>2023</td>\n",
              "      <td>4</td>\n",
              "      <td>SDF</td>\n",
              "      <td>DFW</td>\n",
              "      <td>733.0</td>\n",
              "      <td>1.0</td>\n",
              "      <td>AA</td>\n",
              "      <td>741.00</td>\n",
              "    </tr>\n",
              "    <tr>\n",
              "      <th>23477642</th>\n",
              "      <td>202341141158</td>\n",
              "      <td>20234114115801</td>\n",
              "      <td>2023</td>\n",
              "      <td>4</td>\n",
              "      <td>SDF</td>\n",
              "      <td>DFW</td>\n",
              "      <td>733.0</td>\n",
              "      <td>1.0</td>\n",
              "      <td>AA</td>\n",
              "      <td>894.00</td>\n",
              "    </tr>\n",
              "    <tr>\n",
              "      <th>23477643</th>\n",
              "      <td>202341141158</td>\n",
              "      <td>20234114115802</td>\n",
              "      <td>2023</td>\n",
              "      <td>4</td>\n",
              "      <td>DFW</td>\n",
              "      <td>SDF</td>\n",
              "      <td>733.0</td>\n",
              "      <td>1.0</td>\n",
              "      <td>AA</td>\n",
              "      <td>894.00</td>\n",
              "    </tr>\n",
              "    <tr>\n",
              "      <th>23477644</th>\n",
              "      <td>202341141249</td>\n",
              "      <td>20234114124904</td>\n",
              "      <td>2023</td>\n",
              "      <td>4</td>\n",
              "      <td>DFW</td>\n",
              "      <td>SDF</td>\n",
              "      <td>733.0</td>\n",
              "      <td>1.0</td>\n",
              "      <td>AA</td>\n",
              "      <td>124.95</td>\n",
              "    </tr>\n",
              "  </tbody>\n",
              "</table>\n",
              "<p>23477645 rows × 10 columns</p>\n",
              "</div>"
            ],
            "text/plain": [
              "                ItinID           MktID  Year  Quarter Origin Dest   Miles  \\\n",
              "0         202241227487  20224122748701  2022        4    TPA  PHX  1788.0   \n",
              "1         202241227487  20224122748702  2022        4    PHX  TPA  1788.0   \n",
              "2         202241227488  20224122748801  2022        4    TPA  PHX  1788.0   \n",
              "3         202241227488  20224122748802  2022        4    PHX  TPA  1788.0   \n",
              "4         202241227489  20224122748901  2022        4    TPA  PHX  1788.0   \n",
              "...                ...             ...   ...      ...    ...  ...     ...   \n",
              "23477640  202341141156  20234114115602  2023        4    DFW  SDF   733.0   \n",
              "23477641  202341141157  20234114115701  2023        4    SDF  DFW   733.0   \n",
              "23477642  202341141158  20234114115801  2023        4    SDF  DFW   733.0   \n",
              "23477643  202341141158  20234114115802  2023        4    DFW  SDF   733.0   \n",
              "23477644  202341141249  20234114124904  2023        4    DFW  SDF   733.0   \n",
              "\n",
              "          NumTicketsOrdered AirlineCompany  PricePerTicket  \n",
              "0                      18.0             AA          248.50  \n",
              "1                      18.0             AA          248.50  \n",
              "2                       1.0             AA          249.00  \n",
              "3                       1.0             AA          249.00  \n",
              "4                       1.0             AA          250.00  \n",
              "...                     ...            ...             ...  \n",
              "23477640                2.0             AA          670.50  \n",
              "23477641                1.0             AA          741.00  \n",
              "23477642                1.0             AA          894.00  \n",
              "23477643                1.0             AA          894.00  \n",
              "23477644                1.0             AA          124.95  \n",
              "\n",
              "[23477645 rows x 10 columns]"
            ]
          },
          "execution_count": 4,
          "metadata": {},
          "output_type": "execute_result"
        }
      ],
      "source": [
        "flights = pd.concat([pd.read_csv(os.path.join(ROOT_DIR, file)) for file in os.listdir(ROOT_DIR) if file.endswith('.csv')])\n",
        "\n",
        "flights"
      ]
    },
    {
      "cell_type": "code",
      "execution_count": null,
      "id": "62228151-95cc-4891-8c97-3e9c74b5f3c7",
      "metadata": {
        "id": "62228151-95cc-4891-8c97-3e9c74b5f3c7",
        "outputId": "11ba8786-a62d-4392-a881-c244041afd9c"
      },
      "outputs": [
        {
          "data": {
            "text/plain": [
              "ItinID                 int64\n",
              "MktID                  int64\n",
              "Year                   int64\n",
              "Quarter                int64\n",
              "Origin                object\n",
              "Dest                  object\n",
              "Miles                float64\n",
              "NumTicketsOrdered    float64\n",
              "AirlineCompany        object\n",
              "PricePerTicket       float64\n",
              "dtype: object"
            ]
          },
          "execution_count": 6,
          "metadata": {},
          "output_type": "execute_result"
        }
      ],
      "source": [
        "flights.dtypes"
      ]
    },
    {
      "cell_type": "code",
      "execution_count": null,
      "id": "e497d648-5371-434a-ad71-b06536b3ea8f",
      "metadata": {
        "id": "e497d648-5371-434a-ad71-b06536b3ea8f",
        "outputId": "70416919-dc9d-412c-e1c1-5d34c571b2bf"
      },
      "outputs": [
        {
          "data": {
            "text/plain": [
              "ItinID               0\n",
              "MktID                0\n",
              "Year                 0\n",
              "Quarter              0\n",
              "Origin               0\n",
              "Dest                 0\n",
              "Miles                0\n",
              "NumTicketsOrdered    0\n",
              "AirlineCompany       0\n",
              "PricePerTicket       0\n",
              "dtype: int64"
            ]
          },
          "execution_count": 7,
          "metadata": {},
          "output_type": "execute_result"
        }
      ],
      "source": [
        "flights.isnull().sum()"
      ]
    },
    {
      "cell_type": "code",
      "execution_count": null,
      "id": "d7276a11-39d4-4243-b944-a91b7cc30a74",
      "metadata": {
        "id": "d7276a11-39d4-4243-b944-a91b7cc30a74",
        "outputId": "8bacafdf-064a-495f-9bd9-5d0586d43c1b"
      },
      "outputs": [
        {
          "name": "stdout",
          "output_type": "stream",
          "text": [
            "ItinID group sizes:\n",
            " count    1.500169e+07\n",
            "mean     1.565000e+00\n",
            "std      5.097807e-01\n",
            "min      1.000000e+00\n",
            "25%      1.000000e+00\n",
            "50%      2.000000e+00\n",
            "75%      2.000000e+00\n",
            "max      8.000000e+00\n",
            "dtype: float64\n",
            "MktID group sizes:\n",
            " count    23477645.0\n",
            "mean            1.0\n",
            "std             0.0\n",
            "min             1.0\n",
            "25%             1.0\n",
            "50%             1.0\n",
            "75%             1.0\n",
            "max             1.0\n",
            "dtype: float64\n"
          ]
        }
      ],
      "source": [
        "# Check group sizes\n",
        "print(\"ItinID group sizes:\\n\", flights.groupby('ItinID').size().describe())\n",
        "print(\"MktID group sizes:\\n\", flights.groupby('MktID').size().describe())"
      ]
    },
    {
      "cell_type": "code",
      "execution_count": null,
      "id": "89236708-68d2-4bf3-ad15-ba73f3c1e05c",
      "metadata": {
        "id": "89236708-68d2-4bf3-ad15-ba73f3c1e05c"
      },
      "outputs": [],
      "source": [
        "from sklearn.preprocessing import OneHotEncoder, StandardScaler\n",
        "from sklearn.compose import ColumnTransformer\n",
        "from sklearn.pipeline import Pipeline\n",
        "import xgboost as xgb\n",
        "from sklearn.metrics import mean_absolute_error"
      ]
    },
    {
      "cell_type": "code",
      "execution_count": null,
      "id": "36294ced-1cdb-499e-9a90-d73a6538c47c",
      "metadata": {
        "id": "36294ced-1cdb-499e-9a90-d73a6538c47c"
      },
      "outputs": [],
      "source": [
        "#Create lag feature for price based on itinID\n",
        "flights['price_itinID_lag1'] = flights.groupby('ItinID')['PricePerTicket'].shift(1)"
      ]
    },
    {
      "cell_type": "code",
      "execution_count": null,
      "id": "37732465-ecf8-454b-b2de-7bd103de2fc9",
      "metadata": {
        "id": "37732465-ecf8-454b-b2de-7bd103de2fc9",
        "outputId": "7b14139f-31d2-4662-a65f-ff7a3efda112"
      },
      "outputs": [
        {
          "name": "stdout",
          "output_type": "stream",
          "text": [
            "Number of NaNs in price_itinID_lag1: 15001691\n"
          ]
        }
      ],
      "source": [
        "# Check the number of NaNs\n",
        "nan_count = flights['price_itinID_lag1'].isna().sum()\n",
        "print(\"Number of NaNs in price_itinID_lag1:\", nan_count)"
      ]
    },
    {
      "cell_type": "code",
      "execution_count": null,
      "id": "2dd54fab-5a88-43e7-9d61-e67a3808755b",
      "metadata": {
        "id": "2dd54fab-5a88-43e7-9d61-e67a3808755b"
      },
      "outputs": [],
      "source": [
        "# Drop rows with NaN values\n",
        "flights_cleaned = flights.dropna(subset=['price_itinID_lag1'])"
      ]
    },
    {
      "cell_type": "code",
      "execution_count": null,
      "id": "6cc00027-2124-45c5-aed7-4d880ee59e01",
      "metadata": {
        "id": "6cc00027-2124-45c5-aed7-4d880ee59e01"
      },
      "outputs": [],
      "source": [
        "# Check if data is not empty\n",
        "if flights_cleaned.empty:\n",
        "    raise ValueError(\"The dataset is empty after dropping NaNs\")"
      ]
    },
    {
      "cell_type": "code",
      "execution_count": null,
      "id": "1240b455-45b0-493a-aaca-bdc92dd279b2",
      "metadata": {
        "id": "1240b455-45b0-493a-aaca-bdc92dd279b2",
        "outputId": "39ca1516-13d1-45ab-df8e-621e12d5e92a"
      },
      "outputs": [
        {
          "name": "stdout",
          "output_type": "stream",
          "text": [
            "Number of NaNs in price_itinID_lag1 after dropping rows: 0\n"
          ]
        }
      ],
      "source": [
        "# Confirm no NaNs remain in the lag feature\n",
        "nan_count_after_dropping = flights_cleaned['price_itinID_lag1'].isna().sum()\n",
        "print(\"Number of NaNs in price_itinID_lag1 after dropping rows:\", nan_count_after_dropping)"
      ]
    },
    {
      "cell_type": "code",
      "execution_count": null,
      "id": "5302896e-0392-47d5-b372-78517bd09be3",
      "metadata": {
        "id": "5302896e-0392-47d5-b372-78517bd09be3",
        "outputId": "208d92b1-561e-4f71-9bba-d97bf357e496"
      },
      "outputs": [
        {
          "data": {
            "text/html": [
              "<div>\n",
              "<style scoped>\n",
              "    .dataframe tbody tr th:only-of-type {\n",
              "        vertical-align: middle;\n",
              "    }\n",
              "\n",
              "    .dataframe tbody tr th {\n",
              "        vertical-align: top;\n",
              "    }\n",
              "\n",
              "    .dataframe thead th {\n",
              "        text-align: right;\n",
              "    }\n",
              "</style>\n",
              "<table border=\"1\" class=\"dataframe\">\n",
              "  <thead>\n",
              "    <tr style=\"text-align: right;\">\n",
              "      <th></th>\n",
              "      <th>ItinID</th>\n",
              "      <th>MktID</th>\n",
              "      <th>Year</th>\n",
              "      <th>Quarter</th>\n",
              "      <th>Origin</th>\n",
              "      <th>Dest</th>\n",
              "      <th>Miles</th>\n",
              "      <th>NumTicketsOrdered</th>\n",
              "      <th>AirlineCompany</th>\n",
              "      <th>PricePerTicket</th>\n",
              "      <th>price_itinID_lag1</th>\n",
              "    </tr>\n",
              "  </thead>\n",
              "  <tbody>\n",
              "    <tr>\n",
              "      <th>1</th>\n",
              "      <td>202241227487</td>\n",
              "      <td>20224122748702</td>\n",
              "      <td>2022</td>\n",
              "      <td>4</td>\n",
              "      <td>PHX</td>\n",
              "      <td>TPA</td>\n",
              "      <td>1788.0</td>\n",
              "      <td>18.0</td>\n",
              "      <td>AA</td>\n",
              "      <td>248.5</td>\n",
              "      <td>248.5</td>\n",
              "    </tr>\n",
              "    <tr>\n",
              "      <th>3</th>\n",
              "      <td>202241227488</td>\n",
              "      <td>20224122748802</td>\n",
              "      <td>2022</td>\n",
              "      <td>4</td>\n",
              "      <td>PHX</td>\n",
              "      <td>TPA</td>\n",
              "      <td>1788.0</td>\n",
              "      <td>1.0</td>\n",
              "      <td>AA</td>\n",
              "      <td>249.0</td>\n",
              "      <td>249.0</td>\n",
              "    </tr>\n",
              "    <tr>\n",
              "      <th>5</th>\n",
              "      <td>202241227489</td>\n",
              "      <td>20224122748902</td>\n",
              "      <td>2022</td>\n",
              "      <td>4</td>\n",
              "      <td>PHX</td>\n",
              "      <td>TPA</td>\n",
              "      <td>1788.0</td>\n",
              "      <td>1.0</td>\n",
              "      <td>AA</td>\n",
              "      <td>250.0</td>\n",
              "      <td>250.0</td>\n",
              "    </tr>\n",
              "    <tr>\n",
              "      <th>7</th>\n",
              "      <td>202241227490</td>\n",
              "      <td>20224122749002</td>\n",
              "      <td>2022</td>\n",
              "      <td>4</td>\n",
              "      <td>PHX</td>\n",
              "      <td>TPA</td>\n",
              "      <td>1788.0</td>\n",
              "      <td>2.0</td>\n",
              "      <td>AA</td>\n",
              "      <td>250.5</td>\n",
              "      <td>250.5</td>\n",
              "    </tr>\n",
              "    <tr>\n",
              "      <th>9</th>\n",
              "      <td>202241227491</td>\n",
              "      <td>20224122749102</td>\n",
              "      <td>2022</td>\n",
              "      <td>4</td>\n",
              "      <td>PHX</td>\n",
              "      <td>TPA</td>\n",
              "      <td>1788.0</td>\n",
              "      <td>3.0</td>\n",
              "      <td>AA</td>\n",
              "      <td>252.0</td>\n",
              "      <td>252.0</td>\n",
              "    </tr>\n",
              "    <tr>\n",
              "      <th>...</th>\n",
              "      <td>...</td>\n",
              "      <td>...</td>\n",
              "      <td>...</td>\n",
              "      <td>...</td>\n",
              "      <td>...</td>\n",
              "      <td>...</td>\n",
              "      <td>...</td>\n",
              "      <td>...</td>\n",
              "      <td>...</td>\n",
              "      <td>...</td>\n",
              "      <td>...</td>\n",
              "    </tr>\n",
              "    <tr>\n",
              "      <th>23477633</th>\n",
              "      <td>202341141152</td>\n",
              "      <td>20234114115202</td>\n",
              "      <td>2023</td>\n",
              "      <td>4</td>\n",
              "      <td>DFW</td>\n",
              "      <td>SDF</td>\n",
              "      <td>733.0</td>\n",
              "      <td>1.0</td>\n",
              "      <td>AA</td>\n",
              "      <td>478.0</td>\n",
              "      <td>478.0</td>\n",
              "    </tr>\n",
              "    <tr>\n",
              "      <th>23477635</th>\n",
              "      <td>202341141153</td>\n",
              "      <td>20234114115302</td>\n",
              "      <td>2023</td>\n",
              "      <td>4</td>\n",
              "      <td>DFW</td>\n",
              "      <td>SDF</td>\n",
              "      <td>733.0</td>\n",
              "      <td>1.0</td>\n",
              "      <td>AA</td>\n",
              "      <td>494.5</td>\n",
              "      <td>494.5</td>\n",
              "    </tr>\n",
              "    <tr>\n",
              "      <th>23477637</th>\n",
              "      <td>202341141154</td>\n",
              "      <td>20234114115402</td>\n",
              "      <td>2023</td>\n",
              "      <td>4</td>\n",
              "      <td>DFW</td>\n",
              "      <td>SDF</td>\n",
              "      <td>733.0</td>\n",
              "      <td>1.0</td>\n",
              "      <td>AA</td>\n",
              "      <td>534.5</td>\n",
              "      <td>534.5</td>\n",
              "    </tr>\n",
              "    <tr>\n",
              "      <th>23477640</th>\n",
              "      <td>202341141156</td>\n",
              "      <td>20234114115602</td>\n",
              "      <td>2023</td>\n",
              "      <td>4</td>\n",
              "      <td>DFW</td>\n",
              "      <td>SDF</td>\n",
              "      <td>733.0</td>\n",
              "      <td>2.0</td>\n",
              "      <td>AA</td>\n",
              "      <td>670.5</td>\n",
              "      <td>670.5</td>\n",
              "    </tr>\n",
              "    <tr>\n",
              "      <th>23477643</th>\n",
              "      <td>202341141158</td>\n",
              "      <td>20234114115802</td>\n",
              "      <td>2023</td>\n",
              "      <td>4</td>\n",
              "      <td>DFW</td>\n",
              "      <td>SDF</td>\n",
              "      <td>733.0</td>\n",
              "      <td>1.0</td>\n",
              "      <td>AA</td>\n",
              "      <td>894.0</td>\n",
              "      <td>894.0</td>\n",
              "    </tr>\n",
              "  </tbody>\n",
              "</table>\n",
              "<p>8475954 rows × 11 columns</p>\n",
              "</div>"
            ],
            "text/plain": [
              "                ItinID           MktID  Year  Quarter Origin Dest   Miles  \\\n",
              "1         202241227487  20224122748702  2022        4    PHX  TPA  1788.0   \n",
              "3         202241227488  20224122748802  2022        4    PHX  TPA  1788.0   \n",
              "5         202241227489  20224122748902  2022        4    PHX  TPA  1788.0   \n",
              "7         202241227490  20224122749002  2022        4    PHX  TPA  1788.0   \n",
              "9         202241227491  20224122749102  2022        4    PHX  TPA  1788.0   \n",
              "...                ...             ...   ...      ...    ...  ...     ...   \n",
              "23477633  202341141152  20234114115202  2023        4    DFW  SDF   733.0   \n",
              "23477635  202341141153  20234114115302  2023        4    DFW  SDF   733.0   \n",
              "23477637  202341141154  20234114115402  2023        4    DFW  SDF   733.0   \n",
              "23477640  202341141156  20234114115602  2023        4    DFW  SDF   733.0   \n",
              "23477643  202341141158  20234114115802  2023        4    DFW  SDF   733.0   \n",
              "\n",
              "          NumTicketsOrdered AirlineCompany  PricePerTicket  price_itinID_lag1  \n",
              "1                      18.0             AA           248.5              248.5  \n",
              "3                       1.0             AA           249.0              249.0  \n",
              "5                       1.0             AA           250.0              250.0  \n",
              "7                       2.0             AA           250.5              250.5  \n",
              "9                       3.0             AA           252.0              252.0  \n",
              "...                     ...            ...             ...                ...  \n",
              "23477633                1.0             AA           478.0              478.0  \n",
              "23477635                1.0             AA           494.5              494.5  \n",
              "23477637                1.0             AA           534.5              534.5  \n",
              "23477640                2.0             AA           670.5              670.5  \n",
              "23477643                1.0             AA           894.0              894.0  \n",
              "\n",
              "[8475954 rows x 11 columns]"
            ]
          },
          "execution_count": 18,
          "metadata": {},
          "output_type": "execute_result"
        }
      ],
      "source": [
        "flights_cleaned"
      ]
    },
    {
      "cell_type": "code",
      "execution_count": null,
      "id": "37f2e214-94eb-4eb2-8093-3af533160f3c",
      "metadata": {
        "id": "37f2e214-94eb-4eb2-8093-3af533160f3c"
      },
      "outputs": [],
      "source": [
        "# Split features and target\n",
        "X = flights_cleaned.drop(['PricePerTicket', 'ItinID', 'MktID'], axis=1)\n",
        "y = flights_cleaned['PricePerTicket']"
      ]
    },
    {
      "cell_type": "code",
      "execution_count": null,
      "id": "303ed5df-77a5-4ae9-87e3-9e01568fe0b5",
      "metadata": {
        "id": "303ed5df-77a5-4ae9-87e3-9e01568fe0b5"
      },
      "outputs": [],
      "source": [
        "# Identify categorical and numerical features\n",
        "categorical_features = ['Origin', 'Dest', 'AirlineCompany', 'Quarter']\n",
        "numerical_features = ['Year', 'Miles', 'NumTicketsOrdered', 'price_itinID_lag1']"
      ]
    },
    {
      "cell_type": "code",
      "execution_count": null,
      "id": "027d11c1-8b9d-40c3-95da-e2c07db26cf8",
      "metadata": {
        "id": "027d11c1-8b9d-40c3-95da-e2c07db26cf8"
      },
      "outputs": [],
      "source": [
        "# Preprocessing for categorical data\n",
        "categorical_transformer = OneHotEncoder(handle_unknown='ignore')"
      ]
    },
    {
      "cell_type": "code",
      "execution_count": null,
      "id": "9668a856-33c4-42f3-9688-6f3153daf49c",
      "metadata": {
        "id": "9668a856-33c4-42f3-9688-6f3153daf49c"
      },
      "outputs": [],
      "source": [
        "# Preprocessing for numerical data\n",
        "numerical_transformer = StandardScaler()"
      ]
    },
    {
      "cell_type": "code",
      "execution_count": null,
      "id": "b64c4c85-cf86-4fc5-8131-72a6041fb5e9",
      "metadata": {
        "id": "b64c4c85-cf86-4fc5-8131-72a6041fb5e9"
      },
      "outputs": [],
      "source": [
        "# Create preprocessing pipeline\n",
        "preprocessor = ColumnTransformer(\n",
        "    transformers=[\n",
        "        ('num', numerical_transformer, numerical_features),\n",
        "        ('cat', categorical_transformer, categorical_features)\n",
        "    ])"
      ]
    },
    {
      "cell_type": "code",
      "execution_count": null,
      "id": "dfb2ed42-c54a-4e3d-8f7d-645f83167555",
      "metadata": {
        "id": "dfb2ed42-c54a-4e3d-8f7d-645f83167555"
      },
      "outputs": [],
      "source": [
        "# Create and train the model within a pipeline\n",
        "model = Pipeline(steps=[\n",
        "    ('preprocessor', preprocessor),\n",
        "    ('regressor', xgb.XGBRegressor(objective='reg:squarederror'))\n",
        "])"
      ]
    },
    {
      "cell_type": "code",
      "execution_count": null,
      "id": "9ae794e9-abc1-45f1-96a1-35de102222cb",
      "metadata": {
        "id": "9ae794e9-abc1-45f1-96a1-35de102222cb"
      },
      "outputs": [],
      "source": [
        "from sklearn.model_selection import train_test_split\n",
        "\n",
        "# Split into training and testing sets\n",
        "X_train, X_test, y_train, y_test = train_test_split(X, y, test_size=0.2, random_state=42)"
      ]
    },
    {
      "cell_type": "code",
      "execution_count": null,
      "id": "97513dae-5e9f-4210-98d5-4013a2475ec7",
      "metadata": {
        "id": "97513dae-5e9f-4210-98d5-4013a2475ec7",
        "outputId": "0b069b75-b2a1-4bf6-c1bd-350936f399df"
      },
      "outputs": [
        {
          "data": {
            "text/html": [
              "<style>#sk-container-id-1 {color: black;}#sk-container-id-1 pre{padding: 0;}#sk-container-id-1 div.sk-toggleable {background-color: white;}#sk-container-id-1 label.sk-toggleable__label {cursor: pointer;display: block;width: 100%;margin-bottom: 0;padding: 0.3em;box-sizing: border-box;text-align: center;}#sk-container-id-1 label.sk-toggleable__label-arrow:before {content: \"▸\";float: left;margin-right: 0.25em;color: #696969;}#sk-container-id-1 label.sk-toggleable__label-arrow:hover:before {color: black;}#sk-container-id-1 div.sk-estimator:hover label.sk-toggleable__label-arrow:before {color: black;}#sk-container-id-1 div.sk-toggleable__content {max-height: 0;max-width: 0;overflow: hidden;text-align: left;background-color: #f0f8ff;}#sk-container-id-1 div.sk-toggleable__content pre {margin: 0.2em;color: black;border-radius: 0.25em;background-color: #f0f8ff;}#sk-container-id-1 input.sk-toggleable__control:checked~div.sk-toggleable__content {max-height: 200px;max-width: 100%;overflow: auto;}#sk-container-id-1 input.sk-toggleable__control:checked~label.sk-toggleable__label-arrow:before {content: \"▾\";}#sk-container-id-1 div.sk-estimator input.sk-toggleable__control:checked~label.sk-toggleable__label {background-color: #d4ebff;}#sk-container-id-1 div.sk-label input.sk-toggleable__control:checked~label.sk-toggleable__label {background-color: #d4ebff;}#sk-container-id-1 input.sk-hidden--visually {border: 0;clip: rect(1px 1px 1px 1px);clip: rect(1px, 1px, 1px, 1px);height: 1px;margin: -1px;overflow: hidden;padding: 0;position: absolute;width: 1px;}#sk-container-id-1 div.sk-estimator {font-family: monospace;background-color: #f0f8ff;border: 1px dotted black;border-radius: 0.25em;box-sizing: border-box;margin-bottom: 0.5em;}#sk-container-id-1 div.sk-estimator:hover {background-color: #d4ebff;}#sk-container-id-1 div.sk-parallel-item::after {content: \"\";width: 100%;border-bottom: 1px solid gray;flex-grow: 1;}#sk-container-id-1 div.sk-label:hover label.sk-toggleable__label {background-color: #d4ebff;}#sk-container-id-1 div.sk-serial::before {content: \"\";position: absolute;border-left: 1px solid gray;box-sizing: border-box;top: 0;bottom: 0;left: 50%;z-index: 0;}#sk-container-id-1 div.sk-serial {display: flex;flex-direction: column;align-items: center;background-color: white;padding-right: 0.2em;padding-left: 0.2em;position: relative;}#sk-container-id-1 div.sk-item {position: relative;z-index: 1;}#sk-container-id-1 div.sk-parallel {display: flex;align-items: stretch;justify-content: center;background-color: white;position: relative;}#sk-container-id-1 div.sk-item::before, #sk-container-id-1 div.sk-parallel-item::before {content: \"\";position: absolute;border-left: 1px solid gray;box-sizing: border-box;top: 0;bottom: 0;left: 50%;z-index: -1;}#sk-container-id-1 div.sk-parallel-item {display: flex;flex-direction: column;z-index: 1;position: relative;background-color: white;}#sk-container-id-1 div.sk-parallel-item:first-child::after {align-self: flex-end;width: 50%;}#sk-container-id-1 div.sk-parallel-item:last-child::after {align-self: flex-start;width: 50%;}#sk-container-id-1 div.sk-parallel-item:only-child::after {width: 0;}#sk-container-id-1 div.sk-dashed-wrapped {border: 1px dashed gray;margin: 0 0.4em 0.5em 0.4em;box-sizing: border-box;padding-bottom: 0.4em;background-color: white;}#sk-container-id-1 div.sk-label label {font-family: monospace;font-weight: bold;display: inline-block;line-height: 1.2em;}#sk-container-id-1 div.sk-label-container {text-align: center;}#sk-container-id-1 div.sk-container {/* jupyter's `normalize.less` sets `[hidden] { display: none; }` but bootstrap.min.css set `[hidden] { display: none !important; }` so we also need the `!important` here to be able to override the default hidden behavior on the sphinx rendered scikit-learn.org. See: https://github.com/scikit-learn/scikit-learn/issues/21755 */display: inline-block !important;position: relative;}#sk-container-id-1 div.sk-text-repr-fallback {display: none;}</style><div id=\"sk-container-id-1\" class=\"sk-top-container\"><div class=\"sk-text-repr-fallback\"><pre>Pipeline(steps=[(&#x27;preprocessor&#x27;,\n",
              "                 ColumnTransformer(transformers=[(&#x27;num&#x27;, StandardScaler(),\n",
              "                                                  [&#x27;Year&#x27;, &#x27;Miles&#x27;,\n",
              "                                                   &#x27;NumTicketsOrdered&#x27;,\n",
              "                                                   &#x27;price_itinID_lag1&#x27;]),\n",
              "                                                 (&#x27;cat&#x27;,\n",
              "                                                  OneHotEncoder(handle_unknown=&#x27;ignore&#x27;),\n",
              "                                                  [&#x27;Origin&#x27;, &#x27;Dest&#x27;,\n",
              "                                                   &#x27;AirlineCompany&#x27;,\n",
              "                                                   &#x27;Quarter&#x27;])])),\n",
              "                (&#x27;regressor&#x27;,\n",
              "                 XGBRegressor(base_score=None, booster=None, callbacks=None,\n",
              "                              colsample_bylevel=None, colsample_bynode...\n",
              "                              feature_types=None, gamma=None, grow_policy=None,\n",
              "                              importance_type=None,\n",
              "                              interaction_constraints=None, learning_rate=None,\n",
              "                              max_bin=None, max_cat_threshold=None,\n",
              "                              max_cat_to_onehot=None, max_delta_step=None,\n",
              "                              max_depth=None, max_leaves=None,\n",
              "                              min_child_weight=None, missing=nan,\n",
              "                              monotone_constraints=None, multi_strategy=None,\n",
              "                              n_estimators=None, n_jobs=None,\n",
              "                              num_parallel_tree=None, random_state=None, ...))])</pre><b>In a Jupyter environment, please rerun this cell to show the HTML representation or trust the notebook. <br />On GitHub, the HTML representation is unable to render, please try loading this page with nbviewer.org.</b></div><div class=\"sk-container\" hidden><div class=\"sk-item sk-dashed-wrapped\"><div class=\"sk-label-container\"><div class=\"sk-label sk-toggleable\"><input class=\"sk-toggleable__control sk-hidden--visually\" id=\"sk-estimator-id-1\" type=\"checkbox\" ><label for=\"sk-estimator-id-1\" class=\"sk-toggleable__label sk-toggleable__label-arrow\">Pipeline</label><div class=\"sk-toggleable__content\"><pre>Pipeline(steps=[(&#x27;preprocessor&#x27;,\n",
              "                 ColumnTransformer(transformers=[(&#x27;num&#x27;, StandardScaler(),\n",
              "                                                  [&#x27;Year&#x27;, &#x27;Miles&#x27;,\n",
              "                                                   &#x27;NumTicketsOrdered&#x27;,\n",
              "                                                   &#x27;price_itinID_lag1&#x27;]),\n",
              "                                                 (&#x27;cat&#x27;,\n",
              "                                                  OneHotEncoder(handle_unknown=&#x27;ignore&#x27;),\n",
              "                                                  [&#x27;Origin&#x27;, &#x27;Dest&#x27;,\n",
              "                                                   &#x27;AirlineCompany&#x27;,\n",
              "                                                   &#x27;Quarter&#x27;])])),\n",
              "                (&#x27;regressor&#x27;,\n",
              "                 XGBRegressor(base_score=None, booster=None, callbacks=None,\n",
              "                              colsample_bylevel=None, colsample_bynode...\n",
              "                              feature_types=None, gamma=None, grow_policy=None,\n",
              "                              importance_type=None,\n",
              "                              interaction_constraints=None, learning_rate=None,\n",
              "                              max_bin=None, max_cat_threshold=None,\n",
              "                              max_cat_to_onehot=None, max_delta_step=None,\n",
              "                              max_depth=None, max_leaves=None,\n",
              "                              min_child_weight=None, missing=nan,\n",
              "                              monotone_constraints=None, multi_strategy=None,\n",
              "                              n_estimators=None, n_jobs=None,\n",
              "                              num_parallel_tree=None, random_state=None, ...))])</pre></div></div></div><div class=\"sk-serial\"><div class=\"sk-item sk-dashed-wrapped\"><div class=\"sk-label-container\"><div class=\"sk-label sk-toggleable\"><input class=\"sk-toggleable__control sk-hidden--visually\" id=\"sk-estimator-id-2\" type=\"checkbox\" ><label for=\"sk-estimator-id-2\" class=\"sk-toggleable__label sk-toggleable__label-arrow\">preprocessor: ColumnTransformer</label><div class=\"sk-toggleable__content\"><pre>ColumnTransformer(transformers=[(&#x27;num&#x27;, StandardScaler(),\n",
              "                                 [&#x27;Year&#x27;, &#x27;Miles&#x27;, &#x27;NumTicketsOrdered&#x27;,\n",
              "                                  &#x27;price_itinID_lag1&#x27;]),\n",
              "                                (&#x27;cat&#x27;, OneHotEncoder(handle_unknown=&#x27;ignore&#x27;),\n",
              "                                 [&#x27;Origin&#x27;, &#x27;Dest&#x27;, &#x27;AirlineCompany&#x27;,\n",
              "                                  &#x27;Quarter&#x27;])])</pre></div></div></div><div class=\"sk-parallel\"><div class=\"sk-parallel-item\"><div class=\"sk-item\"><div class=\"sk-label-container\"><div class=\"sk-label sk-toggleable\"><input class=\"sk-toggleable__control sk-hidden--visually\" id=\"sk-estimator-id-3\" type=\"checkbox\" ><label for=\"sk-estimator-id-3\" class=\"sk-toggleable__label sk-toggleable__label-arrow\">num</label><div class=\"sk-toggleable__content\"><pre>[&#x27;Year&#x27;, &#x27;Miles&#x27;, &#x27;NumTicketsOrdered&#x27;, &#x27;price_itinID_lag1&#x27;]</pre></div></div></div><div class=\"sk-serial\"><div class=\"sk-item\"><div class=\"sk-estimator sk-toggleable\"><input class=\"sk-toggleable__control sk-hidden--visually\" id=\"sk-estimator-id-4\" type=\"checkbox\" ><label for=\"sk-estimator-id-4\" class=\"sk-toggleable__label sk-toggleable__label-arrow\">StandardScaler</label><div class=\"sk-toggleable__content\"><pre>StandardScaler()</pre></div></div></div></div></div></div><div class=\"sk-parallel-item\"><div class=\"sk-item\"><div class=\"sk-label-container\"><div class=\"sk-label sk-toggleable\"><input class=\"sk-toggleable__control sk-hidden--visually\" id=\"sk-estimator-id-5\" type=\"checkbox\" ><label for=\"sk-estimator-id-5\" class=\"sk-toggleable__label sk-toggleable__label-arrow\">cat</label><div class=\"sk-toggleable__content\"><pre>[&#x27;Origin&#x27;, &#x27;Dest&#x27;, &#x27;AirlineCompany&#x27;, &#x27;Quarter&#x27;]</pre></div></div></div><div class=\"sk-serial\"><div class=\"sk-item\"><div class=\"sk-estimator sk-toggleable\"><input class=\"sk-toggleable__control sk-hidden--visually\" id=\"sk-estimator-id-6\" type=\"checkbox\" ><label for=\"sk-estimator-id-6\" class=\"sk-toggleable__label sk-toggleable__label-arrow\">OneHotEncoder</label><div class=\"sk-toggleable__content\"><pre>OneHotEncoder(handle_unknown=&#x27;ignore&#x27;)</pre></div></div></div></div></div></div></div></div><div class=\"sk-item\"><div class=\"sk-estimator sk-toggleable\"><input class=\"sk-toggleable__control sk-hidden--visually\" id=\"sk-estimator-id-7\" type=\"checkbox\" ><label for=\"sk-estimator-id-7\" class=\"sk-toggleable__label sk-toggleable__label-arrow\">XGBRegressor</label><div class=\"sk-toggleable__content\"><pre>XGBRegressor(base_score=None, booster=None, callbacks=None,\n",
              "             colsample_bylevel=None, colsample_bynode=None,\n",
              "             colsample_bytree=None, device=None, early_stopping_rounds=None,\n",
              "             enable_categorical=False, eval_metric=None, feature_types=None,\n",
              "             gamma=None, grow_policy=None, importance_type=None,\n",
              "             interaction_constraints=None, learning_rate=None, max_bin=None,\n",
              "             max_cat_threshold=None, max_cat_to_onehot=None,\n",
              "             max_delta_step=None, max_depth=None, max_leaves=None,\n",
              "             min_child_weight=None, missing=nan, monotone_constraints=None,\n",
              "             multi_strategy=None, n_estimators=None, n_jobs=None,\n",
              "             num_parallel_tree=None, random_state=None, ...)</pre></div></div></div></div></div></div></div>"
            ],
            "text/plain": [
              "Pipeline(steps=[('preprocessor',\n",
              "                 ColumnTransformer(transformers=[('num', StandardScaler(),\n",
              "                                                  ['Year', 'Miles',\n",
              "                                                   'NumTicketsOrdered',\n",
              "                                                   'price_itinID_lag1']),\n",
              "                                                 ('cat',\n",
              "                                                  OneHotEncoder(handle_unknown='ignore'),\n",
              "                                                  ['Origin', 'Dest',\n",
              "                                                   'AirlineCompany',\n",
              "                                                   'Quarter'])])),\n",
              "                ('regressor',\n",
              "                 XGBRegressor(base_score=None, booster=None, callbacks=None,\n",
              "                              colsample_bylevel=None, colsample_bynode...\n",
              "                              feature_types=None, gamma=None, grow_policy=None,\n",
              "                              importance_type=None,\n",
              "                              interaction_constraints=None, learning_rate=None,\n",
              "                              max_bin=None, max_cat_threshold=None,\n",
              "                              max_cat_to_onehot=None, max_delta_step=None,\n",
              "                              max_depth=None, max_leaves=None,\n",
              "                              min_child_weight=None, missing=nan,\n",
              "                              monotone_constraints=None, multi_strategy=None,\n",
              "                              n_estimators=None, n_jobs=None,\n",
              "                              num_parallel_tree=None, random_state=None, ...))])"
            ]
          },
          "execution_count": 26,
          "metadata": {},
          "output_type": "execute_result"
        }
      ],
      "source": [
        "# Train the model\n",
        "model.fit(X_train, y_train)"
      ]
    },
    {
      "cell_type": "code",
      "execution_count": null,
      "id": "8076b75c-7891-4e4e-9e89-172957ea00d8",
      "metadata": {
        "id": "8076b75c-7891-4e4e-9e89-172957ea00d8",
        "outputId": "013eb9c9-7942-4a20-dc17-40e2a37acbba"
      },
      "outputs": [
        {
          "data": {
            "text/plain": [
              "Index(['Year', 'Quarter', 'Origin', 'Dest', 'Miles', 'NumTicketsOrdered',\n",
              "       'AirlineCompany', 'price_itinID_lag1'],\n",
              "      dtype='object')"
            ]
          },
          "execution_count": 27,
          "metadata": {},
          "output_type": "execute_result"
        }
      ],
      "source": [
        "X_train.columns"
      ]
    },
    {
      "cell_type": "code",
      "execution_count": null,
      "id": "ffe8efe4-f384-4203-9a06-4a025367a6d9",
      "metadata": {
        "id": "ffe8efe4-f384-4203-9a06-4a025367a6d9"
      },
      "outputs": [],
      "source": [
        "y_pred = model.predict(X_test)"
      ]
    },
    {
      "cell_type": "code",
      "execution_count": null,
      "id": "8b726ba4-2381-4231-95a7-3f818beb5d2f",
      "metadata": {
        "id": "8b726ba4-2381-4231-95a7-3f818beb5d2f",
        "outputId": "5adb669b-1f91-4502-e084-d654ef47e2ea"
      },
      "outputs": [
        {
          "name": "stdout",
          "output_type": "stream",
          "text": [
            "Mean Absolute Error: 3.795904656148085\n"
          ]
        }
      ],
      "source": [
        "mae = mean_absolute_error(y_test, y_pred)\n",
        "print(f'Mean Absolute Error: {mae}')"
      ]
    },
    {
      "cell_type": "code",
      "execution_count": null,
      "id": "5f5d200f-65a3-4627-aca9-91e5546af6ff",
      "metadata": {
        "id": "5f5d200f-65a3-4627-aca9-91e5546af6ff"
      },
      "outputs": [],
      "source": [
        "from sklearn.model_selection import cross_val_score, KFold\n",
        "from sklearn.metrics import make_scorer, mean_absolute_error"
      ]
    },
    {
      "cell_type": "code",
      "execution_count": null,
      "id": "060603c5-17e3-4105-b2a9-61c1a12f8d13",
      "metadata": {
        "id": "060603c5-17e3-4105-b2a9-61c1a12f8d13"
      },
      "outputs": [],
      "source": [
        "# Define a custom scoring function using mean absolute error\n",
        "scorer = make_scorer(mean_absolute_error, greater_is_better=False)"
      ]
    },
    {
      "cell_type": "code",
      "execution_count": null,
      "id": "1a147be9-1822-4024-a6bd-aaafd17c0882",
      "metadata": {
        "id": "1a147be9-1822-4024-a6bd-aaafd17c0882"
      },
      "outputs": [],
      "source": [
        "# Define the k-fold cross-validation\n",
        "kf = KFold(n_splits=8, shuffle=True, random_state=42)"
      ]
    },
    {
      "cell_type": "code",
      "execution_count": null,
      "id": "000b7955-3ede-41fa-8861-3e4860c6aad8",
      "metadata": {
        "id": "000b7955-3ede-41fa-8861-3e4860c6aad8"
      },
      "outputs": [],
      "source": [
        "# Perform cross-validation\n",
        "cv_scores = cross_val_score(model, X, y, cv=kf, scoring=scorer)"
      ]
    },
    {
      "cell_type": "code",
      "execution_count": null,
      "id": "536ce7bb-82e8-4fdc-a628-1dc8ad777bd5",
      "metadata": {
        "id": "536ce7bb-82e8-4fdc-a628-1dc8ad777bd5"
      },
      "outputs": [],
      "source": [
        "mean_cv_mae = -np.mean(cv_scores)\n",
        "std_cv_mae = np.std(cv_scores)"
      ]
    },
    {
      "cell_type": "code",
      "execution_count": null,
      "id": "a58a6d81-cee6-477b-9e3a-4b6248dc71ff",
      "metadata": {
        "id": "a58a6d81-cee6-477b-9e3a-4b6248dc71ff",
        "outputId": "620b1b5d-e608-4e61-a44c-92d4fe5b5225"
      },
      "outputs": [
        {
          "name": "stdout",
          "output_type": "stream",
          "text": [
            "mean cross-val mae 3.794389617685062\n",
            "standard deviation of cross-val mae 0.018056887910210945\n"
          ]
        }
      ],
      "source": [
        "print(f'mean cross-val mae {mean_cv_mae}')\n",
        "print(f'standard deviation of cross-val mae {std_cv_mae}')"
      ]
    },
    {
      "cell_type": "code",
      "execution_count": null,
      "id": "325abe1c-67a7-4dc2-8a19-c21e0b5f9698",
      "metadata": {
        "id": "325abe1c-67a7-4dc2-8a19-c21e0b5f9698"
      },
      "outputs": [],
      "source": [
        "from sklearn.model_selection import cross_val_score\n",
        "\n",
        "score=cross_val_score(model, X, y, cv=5, scoring=\"neg_mean_squared_error\")"
      ]
    },
    {
      "cell_type": "code",
      "execution_count": null,
      "id": "9fc7939c-d43d-45ef-857e-a7e1b78a63e0",
      "metadata": {
        "id": "9fc7939c-d43d-45ef-857e-a7e1b78a63e0"
      },
      "outputs": [],
      "source": [
        "rmse_scores = np.sqrt(-score)"
      ]
    },
    {
      "cell_type": "code",
      "execution_count": null,
      "id": "b7f53b15-31f0-4ecb-bf9f-3cba1faf2f44",
      "metadata": {
        "id": "b7f53b15-31f0-4ecb-bf9f-3cba1faf2f44"
      },
      "outputs": [],
      "source": [
        "def display_scores(scores):\n",
        "    print(\"Scores:\", scores)\n",
        "    print(\"Mean:\", scores.mean())\n",
        "    print(\"Standard deviation:\", scores.std())"
      ]
    },
    {
      "cell_type": "code",
      "execution_count": null,
      "id": "c0db43b5-d8c6-4a28-85fa-ea4f62c6b6ba",
      "metadata": {
        "id": "c0db43b5-d8c6-4a28-85fa-ea4f62c6b6ba",
        "outputId": "581b4b77-f125-455c-fd59-389d2a3aeb0f"
      },
      "outputs": [
        {
          "name": "stdout",
          "output_type": "stream",
          "text": [
            "Scores: [15.95324844 16.70127265 18.37724743 16.80087725 15.65796179]\n",
            "Mean: 16.698121512371294\n",
            "Standard deviation: 0.9451773000145715\n"
          ]
        }
      ],
      "source": [
        "display_scores(rmse_scores)"
      ]
    },
    {
      "cell_type": "code",
      "execution_count": null,
      "id": "1fd6d8c0-2d8a-4d49-9d34-24337f116859",
      "metadata": {
        "id": "1fd6d8c0-2d8a-4d49-9d34-24337f116859",
        "outputId": "811e00b9-0ded-43e9-f306-2a1466324b30"
      },
      "outputs": [
        {
          "data": {
            "text/plain": [
              "Index(['Year', 'Quarter', 'Origin', 'Dest', 'Miles', 'NumTicketsOrdered',\n",
              "       'AirlineCompany', 'price_itinID_lag1'],\n",
              "      dtype='object')"
            ]
          },
          "execution_count": 41,
          "metadata": {},
          "output_type": "execute_result"
        }
      ],
      "source": [
        "X_test.columns"
      ]
    },
    {
      "cell_type": "code",
      "execution_count": null,
      "id": "73b12d6d-da94-4874-8e13-d87936617bca",
      "metadata": {
        "id": "73b12d6d-da94-4874-8e13-d87936617bca",
        "outputId": "e2e321a5-abb0-4654-d254-04377eb602b8"
      },
      "outputs": [
        {
          "data": {
            "text/plain": [
              "['preprocessor.joblib']"
            ]
          },
          "execution_count": 42,
          "metadata": {},
          "output_type": "execute_result"
        }
      ],
      "source": [
        "import joblib\n",
        "\n",
        "joblib.dump(model, 'newModel.joblib')\n",
        "joblib.dump(preprocessor, 'preprocessor.joblib')"
      ]
    },
    {
      "cell_type": "code",
      "execution_count": null,
      "id": "02b37a4b-d076-472a-aee5-27b3e2d52ac8",
      "metadata": {
        "id": "02b37a4b-d076-472a-aee5-27b3e2d52ac8"
      },
      "outputs": [],
      "source": [
        "import pandas as pd\n",
        "\n",
        "# Create the 'Date' column from 'Year' and 'Quarter'\n",
        "def quarter_to_month(quarter):\n",
        "    return {1: '01', 2: '04', 3: '07', 4: '10'}[quarter]\n",
        "\n",
        "flights['Month'] = flights['Quarter'].apply(quarter_to_month)\n",
        "flights['Day'] = '01'  # Use the first day of the month for simplicity\n",
        "flights['Date'] = pd.to_datetime(flights['Year'].astype(str) + '-' + flights['Month'] + '-' + flights['Day'])\n",
        "\n",
        "# Prepare the historical data\n",
        "historical_data = flights[['Date', 'Origin', 'Dest', 'AirlineCompany', 'PricePerTicket']].copy()\n",
        "historical_data.rename(columns={'PricePerTicket': 'Price'}, inplace=True)\n",
        "\n",
        "# Save to CSV\n",
        "historical_data.to_csv('historical_data.csv', index=False)\n"
      ]
    },
    {
      "cell_type": "code",
      "execution_count": null,
      "id": "57825fe1-92a3-4966-b51f-1be5f0113447",
      "metadata": {
        "id": "57825fe1-92a3-4966-b51f-1be5f0113447",
        "outputId": "5e93ec34-8766-482f-b7ea-26afc507c799"
      },
      "outputs": [
        {
          "data": {
            "text/plain": [
              "Year                   2022\n",
              "Quarter                   2\n",
              "Origin                  JFK\n",
              "Dest                    MIA\n",
              "Miles                1089.0\n",
              "NumTicketsOrdered       1.0\n",
              "AirlineCompany           AA\n",
              "price_itinID_lag1     474.0\n",
              "Name: 3867269, dtype: object"
            ]
          },
          "execution_count": 45,
          "metadata": {},
          "output_type": "execute_result"
        }
      ],
      "source": [
        "X_train.iloc[0]"
      ]
    },
    {
      "cell_type": "code",
      "execution_count": null,
      "id": "718e6f5b-e109-4a35-ab2c-f95d7758895b",
      "metadata": {
        "id": "718e6f5b-e109-4a35-ab2c-f95d7758895b",
        "outputId": "e4fabf0d-6c3a-4397-9521-595d2b958b57"
      },
      "outputs": [
        {
          "data": {
            "text/plain": [
              "Index(['ItinID', 'MktID', 'Year', 'Quarter', 'Origin', 'Dest', 'Miles',\n",
              "       'NumTicketsOrdered', 'AirlineCompany', 'PricePerTicket',\n",
              "       'price_itinID_lag1', 'Month', 'Day', 'Date'],\n",
              "      dtype='object')"
            ]
          },
          "execution_count": 47,
          "metadata": {},
          "output_type": "execute_result"
        }
      ],
      "source": [
        "flights.columns"
      ]
    },
    {
      "cell_type": "code",
      "execution_count": null,
      "id": "ad591a54-ec9a-4974-b39c-0e9c20008f93",
      "metadata": {
        "id": "ad591a54-ec9a-4974-b39c-0e9c20008f93"
      },
      "outputs": [],
      "source": [
        "#Check if there is some correlation between itinID on the same route in the same quarter and the price\n",
        "\n",
        "true_false = flights.groupby(['Origin', 'Dest', 'Year', 'Quarter',\n",
        "                              'ItinID'])['PricePerTicket'].apply(lambda x: x.is_monotonic_increasing).reset_index()"
      ]
    },
    {
      "cell_type": "code",
      "execution_count": null,
      "id": "42301f03-d9fb-4d91-b8b8-3f2cd5742810",
      "metadata": {
        "id": "42301f03-d9fb-4d91-b8b8-3f2cd5742810",
        "outputId": "93a21a24-ece5-4ec1-ab11-a537e041ac02"
      },
      "outputs": [
        {
          "data": {
            "text/html": [
              "<div>\n",
              "<style scoped>\n",
              "    .dataframe tbody tr th:only-of-type {\n",
              "        vertical-align: middle;\n",
              "    }\n",
              "\n",
              "    .dataframe tbody tr th {\n",
              "        vertical-align: top;\n",
              "    }\n",
              "\n",
              "    .dataframe thead th {\n",
              "        text-align: right;\n",
              "    }\n",
              "</style>\n",
              "<table border=\"1\" class=\"dataframe\">\n",
              "  <thead>\n",
              "    <tr style=\"text-align: right;\">\n",
              "      <th></th>\n",
              "      <th>Origin</th>\n",
              "      <th>Dest</th>\n",
              "      <th>Year</th>\n",
              "      <th>Quarter</th>\n",
              "      <th>ItinID</th>\n",
              "      <th>PricePerTicket</th>\n",
              "    </tr>\n",
              "  </thead>\n",
              "  <tbody>\n",
              "    <tr>\n",
              "      <th>0</th>\n",
              "      <td>ABE</td>\n",
              "      <td>BNA</td>\n",
              "      <td>2022</td>\n",
              "      <td>1</td>\n",
              "      <td>202212185163</td>\n",
              "      <td>True</td>\n",
              "    </tr>\n",
              "    <tr>\n",
              "      <th>1</th>\n",
              "      <td>ABE</td>\n",
              "      <td>BNA</td>\n",
              "      <td>2022</td>\n",
              "      <td>1</td>\n",
              "      <td>202212185164</td>\n",
              "      <td>True</td>\n",
              "    </tr>\n",
              "    <tr>\n",
              "      <th>2</th>\n",
              "      <td>ABE</td>\n",
              "      <td>BNA</td>\n",
              "      <td>2022</td>\n",
              "      <td>1</td>\n",
              "      <td>202212185165</td>\n",
              "      <td>True</td>\n",
              "    </tr>\n",
              "    <tr>\n",
              "      <th>3</th>\n",
              "      <td>ABE</td>\n",
              "      <td>BNA</td>\n",
              "      <td>2022</td>\n",
              "      <td>1</td>\n",
              "      <td>202212185182</td>\n",
              "      <td>True</td>\n",
              "    </tr>\n",
              "    <tr>\n",
              "      <th>4</th>\n",
              "      <td>ABE</td>\n",
              "      <td>BNA</td>\n",
              "      <td>2022</td>\n",
              "      <td>1</td>\n",
              "      <td>202212185183</td>\n",
              "      <td>True</td>\n",
              "    </tr>\n",
              "    <tr>\n",
              "      <th>...</th>\n",
              "      <td>...</td>\n",
              "      <td>...</td>\n",
              "      <td>...</td>\n",
              "      <td>...</td>\n",
              "      <td>...</td>\n",
              "      <td>...</td>\n",
              "    </tr>\n",
              "    <tr>\n",
              "      <th>23476027</th>\n",
              "      <td>YAK</td>\n",
              "      <td>SEA</td>\n",
              "      <td>2023</td>\n",
              "      <td>4</td>\n",
              "      <td>202341489158</td>\n",
              "      <td>True</td>\n",
              "    </tr>\n",
              "    <tr>\n",
              "      <th>23476028</th>\n",
              "      <td>YAK</td>\n",
              "      <td>SEA</td>\n",
              "      <td>2023</td>\n",
              "      <td>4</td>\n",
              "      <td>202341489159</td>\n",
              "      <td>True</td>\n",
              "    </tr>\n",
              "    <tr>\n",
              "      <th>23476029</th>\n",
              "      <td>YAK</td>\n",
              "      <td>TUS</td>\n",
              "      <td>2022</td>\n",
              "      <td>1</td>\n",
              "      <td>202211109464</td>\n",
              "      <td>True</td>\n",
              "    </tr>\n",
              "    <tr>\n",
              "      <th>23476030</th>\n",
              "      <td>YAK</td>\n",
              "      <td>TUS</td>\n",
              "      <td>2022</td>\n",
              "      <td>2</td>\n",
              "      <td>202221435074</td>\n",
              "      <td>True</td>\n",
              "    </tr>\n",
              "    <tr>\n",
              "      <th>23476031</th>\n",
              "      <td>YAK</td>\n",
              "      <td>TUS</td>\n",
              "      <td>2022</td>\n",
              "      <td>3</td>\n",
              "      <td>202231408993</td>\n",
              "      <td>True</td>\n",
              "    </tr>\n",
              "  </tbody>\n",
              "</table>\n",
              "<p>23476032 rows × 6 columns</p>\n",
              "</div>"
            ],
            "text/plain": [
              "         Origin Dest  Year  Quarter        ItinID  PricePerTicket\n",
              "0           ABE  BNA  2022        1  202212185163            True\n",
              "1           ABE  BNA  2022        1  202212185164            True\n",
              "2           ABE  BNA  2022        1  202212185165            True\n",
              "3           ABE  BNA  2022        1  202212185182            True\n",
              "4           ABE  BNA  2022        1  202212185183            True\n",
              "...         ...  ...   ...      ...           ...             ...\n",
              "23476027    YAK  SEA  2023        4  202341489158            True\n",
              "23476028    YAK  SEA  2023        4  202341489159            True\n",
              "23476029    YAK  TUS  2022        1  202211109464            True\n",
              "23476030    YAK  TUS  2022        2  202221435074            True\n",
              "23476031    YAK  TUS  2022        3  202231408993            True\n",
              "\n",
              "[23476032 rows x 6 columns]"
            ]
          },
          "execution_count": 49,
          "metadata": {},
          "output_type": "execute_result"
        }
      ],
      "source": [
        "true_false"
      ]
    },
    {
      "cell_type": "code",
      "execution_count": null,
      "id": "70e11c30-45da-4717-af9d-17923df03559",
      "metadata": {
        "id": "70e11c30-45da-4717-af9d-17923df03559",
        "outputId": "425eca22-2a9d-43aa-a3b3-8d7097db0b0a"
      },
      "outputs": [
        {
          "data": {
            "text/plain": [
              "PricePerTicket\n",
              "True    23476032\n",
              "Name: count, dtype: int64"
            ]
          },
          "execution_count": 50,
          "metadata": {},
          "output_type": "execute_result"
        }
      ],
      "source": [
        "counts = true_false['PricePerTicket'].value_counts()\n",
        "\n",
        "counts"
      ]
    },
    {
      "cell_type": "code",
      "execution_count": null,
      "id": "fb8f99d3-7d2d-4c0b-b3a9-5aa5e147258c",
      "metadata": {
        "id": "fb8f99d3-7d2d-4c0b-b3a9-5aa5e147258c",
        "outputId": "3961b130-3a8d-4a19-983b-de243eb8afbc"
      },
      "outputs": [
        {
          "name": "stdout",
          "output_type": "stream",
          "text": [
            "Requirement already satisfied: seaborn in /home/sardelean/anaconda3/envs/ml/lib/python3.11/site-packages (0.13.2)\n",
            "Requirement already satisfied: numpy!=1.24.0,>=1.20 in /home/sardelean/anaconda3/envs/ml/lib/python3.11/site-packages (from seaborn) (1.26.2)\n",
            "Requirement already satisfied: pandas>=1.2 in /home/sardelean/anaconda3/envs/ml/lib/python3.11/site-packages (from seaborn) (2.2.0)\n",
            "Requirement already satisfied: matplotlib!=3.6.1,>=3.4 in /home/sardelean/anaconda3/envs/ml/lib/python3.11/site-packages (from seaborn) (3.8.2)\n",
            "Requirement already satisfied: contourpy>=1.0.1 in /home/sardelean/anaconda3/envs/ml/lib/python3.11/site-packages (from matplotlib!=3.6.1,>=3.4->seaborn) (1.2.0)\n",
            "Requirement already satisfied: cycler>=0.10 in /home/sardelean/anaconda3/envs/ml/lib/python3.11/site-packages (from matplotlib!=3.6.1,>=3.4->seaborn) (0.12.1)\n",
            "Requirement already satisfied: fonttools>=4.22.0 in /home/sardelean/anaconda3/envs/ml/lib/python3.11/site-packages (from matplotlib!=3.6.1,>=3.4->seaborn) (4.46.0)\n",
            "Requirement already satisfied: kiwisolver>=1.3.1 in /home/sardelean/anaconda3/envs/ml/lib/python3.11/site-packages (from matplotlib!=3.6.1,>=3.4->seaborn) (1.4.5)\n",
            "Requirement already satisfied: packaging>=20.0 in /home/sardelean/anaconda3/envs/ml/lib/python3.11/site-packages (from matplotlib!=3.6.1,>=3.4->seaborn) (23.2)\n",
            "Requirement already satisfied: pillow>=8 in /home/sardelean/anaconda3/envs/ml/lib/python3.11/site-packages (from matplotlib!=3.6.1,>=3.4->seaborn) (10.1.0)\n",
            "Requirement already satisfied: pyparsing>=2.3.1 in /home/sardelean/anaconda3/envs/ml/lib/python3.11/site-packages (from matplotlib!=3.6.1,>=3.4->seaborn) (3.1.1)\n",
            "Requirement already satisfied: python-dateutil>=2.7 in /home/sardelean/anaconda3/envs/ml/lib/python3.11/site-packages (from matplotlib!=3.6.1,>=3.4->seaborn) (2.8.2)\n",
            "Requirement already satisfied: pytz>=2020.1 in /home/sardelean/anaconda3/envs/ml/lib/python3.11/site-packages (from pandas>=1.2->seaborn) (2023.3.post1)\n",
            "Requirement already satisfied: tzdata>=2022.7 in /home/sardelean/anaconda3/envs/ml/lib/python3.11/site-packages (from pandas>=1.2->seaborn) (2023.4)\n",
            "Requirement already satisfied: six>=1.5 in /home/sardelean/anaconda3/envs/ml/lib/python3.11/site-packages (from python-dateutil>=2.7->matplotlib!=3.6.1,>=3.4->seaborn) (1.16.0)\n",
            "Note: you may need to restart the kernel to use updated packages.\n"
          ]
        }
      ],
      "source": [
        "pip install seaborn"
      ]
    },
    {
      "cell_type": "code",
      "execution_count": null,
      "id": "68a46421-8c80-415e-9124-cfce8a755072",
      "metadata": {
        "id": "68a46421-8c80-415e-9124-cfce8a755072",
        "outputId": "169c8b30-7271-4ee7-efea-e75edfdd2105"
      },
      "outputs": [
        {
          "name": "stderr",
          "output_type": "stream",
          "text": [
            "/tmp/ipykernel_2619494/2450677784.py:4: UserWarning: \n",
            "\n",
            "`distplot` is a deprecated function and will be removed in seaborn v0.14.0.\n",
            "\n",
            "Please adapt your code to use either `displot` (a figure-level function with\n",
            "similar flexibility) or `histplot` (an axes-level function for histograms).\n",
            "\n",
            "For a guide to updating your code to use the new functions, please see\n",
            "https://gist.github.com/mwaskom/de44147ed2974457ad6372750bbe5751\n",
            "\n",
            "  sns.distplot(x, kde=True)\n"
          ]
        },
        {
          "data": {
            "text/plain": [
              "<Axes: xlabel='NumTicketsOrdered', ylabel='Density'>"
            ]
          },
          "execution_count": 53,
          "metadata": {},
          "output_type": "execute_result"
        },
        {
          "data": {
            "image/png": "[encoded data removed]",
            "text/plain": [
              "<Figure size 640x480 with 1 Axes>"
            ]
          },
          "metadata": {},
          "output_type": "display_data"
        }
      ],
      "source": [
        "import seaborn as sns\n",
        "x = flights['NumTicketsOrdered']\n",
        "sns.distplot(x)"
      ]
    },
    {
      "cell_type": "code",
      "execution_count": null,
      "id": "61b9517f-e736-4a9d-88e7-2366d7e0fec0",
      "metadata": {
        "id": "61b9517f-e736-4a9d-88e7-2366d7e0fec0",
        "outputId": "c4071d5c-0d2f-460f-a9d3-ac861047f00b"
      },
      "outputs": [
        {
          "data": {
            "text/plain": [
              "AirlineCompany\n",
              "WN    6554810\n",
              "UA    3678262\n",
              "AA    3496903\n",
              "DL    3396782\n",
              "B6    1472799\n",
              "AS    1159247\n",
              "G4    1140688\n",
              "NK    1118075\n",
              "F9     841206\n",
              "HA     292066\n",
              "MX     120562\n",
              "SY      98255\n",
              "XP      83558\n",
              "3M      24432\n",
              "Name: count, dtype: int64"
            ]
          },
          "execution_count": 54,
          "metadata": {},
          "output_type": "execute_result"
        }
      ],
      "source": [
        "flights['AirlineCompany'].value_counts()"
      ]
    },
    {
      "cell_type": "code",
      "execution_count": null,
      "id": "56b7b036-010d-4137-a509-9e4bea041ce9",
      "metadata": {
        "id": "56b7b036-010d-4137-a509-9e4bea041ce9",
        "outputId": "25dae255-120c-45ed-b6e5-78c3f05fe2cb"
      },
      "outputs": [
        {
          "name": "stderr",
          "output_type": "stream",
          "text": [
            "/tmp/ipykernel_2619494/3185994816.py:3: UserWarning: \n",
            "\n",
            "`distplot` is a deprecated function and will be removed in seaborn v0.14.0.\n",
            "\n",
            "Please adapt your code to use either `displot` (a figure-level function with\n",
            "similar flexibility) or `histplot` (an axes-level function for histograms).\n",
            "\n",
            "For a guide to updating your code to use the new functions, please see\n",
            "https://gist.github.com/mwaskom/de44147ed2974457ad6372750bbe5751\n",
            "\n",
            "  sns.distplot(y)\n"
          ]
        },
        {
          "data": {
            "text/plain": [
              "<Axes: xlabel='PricePerTicket', ylabel='Density'>"
            ]
          },
          "execution_count": 55,
          "metadata": {},
          "output_type": "execute_result"
        },
        {
          "data": {
            "image/png": "[encoded data removed]",
            "text/plain": [
              "<Figure size 640x480 with 1 Axes>"
            ]
          },
          "metadata": {},
          "output_type": "display_data"
        }
      ],
      "source": [
        "import seaborn as sns\n",
        "y = flights['PricePerTicket']\n",
        "sns.distplot(y)"
      ]
    },
    {
      "cell_type": "code",
      "execution_count": null,
      "id": "e4cbe58f-e64b-4bf5-bc10-06a9f177d703",
      "metadata": {
        "id": "e4cbe58f-e64b-4bf5-bc10-06a9f177d703",
        "outputId": "7fb07e56-8bda-4573-8e1e-7abb8891587c"
      },
      "outputs": [
        {
          "data": {
            "text/plain": [
              "count    2.347764e+07\n",
              "mean     2.477419e+02\n",
              "std      1.551027e+02\n",
              "min      5.000000e+01\n",
              "25%      1.404000e+02\n",
              "50%      2.110000e+02\n",
              "75%      3.100000e+02\n",
              "max      1.000000e+03\n",
              "Name: PricePerTicket, dtype: float64"
            ]
          },
          "execution_count": 56,
          "metadata": {},
          "output_type": "execute_result"
        }
      ],
      "source": [
        "flights['PricePerTicket'].describe()"
      ]
    },
    {
      "cell_type": "code",
      "execution_count": null,
      "id": "8536de39-7de9-435d-9577-6aace9690089",
      "metadata": {
        "id": "8536de39-7de9-435d-9577-6aace9690089",
        "outputId": "4babb4c2-e9fc-4cca-a349-8f529a05c1e6"
      },
      "outputs": [
        {
          "name": "stderr",
          "output_type": "stream",
          "text": [
            "/tmp/ipykernel_2619494/4212087649.py:3: UserWarning: \n",
            "\n",
            "`distplot` is a deprecated function and will be removed in seaborn v0.14.0.\n",
            "\n",
            "Please adapt your code to use either `displot` (a figure-level function with\n",
            "similar flexibility) or `histplot` (an axes-level function for histograms).\n",
            "\n",
            "For a guide to updating your code to use the new functions, please see\n",
            "https://gist.github.com/mwaskom/de44147ed2974457ad6372750bbe5751\n",
            "\n",
            "  sns.distplot(y2)\n"
          ]
        },
        {
          "data": {
            "text/plain": [
              "<Axes: xlabel='Miles', ylabel='Density'>"
            ]
          },
          "execution_count": 57,
          "metadata": {},
          "output_type": "execute_result"
        },
        {
          "data": {
            "image/png": "[encoded data removed]",
            "text/plain": [
              "<Figure size 640x480 with 1 Axes>"
            ]
          },
          "metadata": {},
          "output_type": "display_data"
        }
      ],
      "source": [
        "import seaborn as sns\n",
        "y2 = flights['Miles']\n",
        "sns.distplot(y2)"
      ]
    },
    {
      "cell_type": "code",
      "execution_count": null,
      "id": "0441a65b-1240-497a-b8ab-a047c162bc5b",
      "metadata": {
        "id": "0441a65b-1240-497a-b8ab-a047c162bc5b",
        "outputId": "6130c3aa-5879-432e-f27b-98e818027020"
      },
      "outputs": [
        {
          "name": "stdout",
          "output_type": "stream",
          "text": [
            "Requirement already satisfied: matplotlib in /home/sardelean/anaconda3/envs/ml/lib/python3.11/site-packages (3.8.2)\n",
            "Requirement already satisfied: contourpy>=1.0.1 in /home/sardelean/anaconda3/envs/ml/lib/python3.11/site-packages (from matplotlib) (1.2.0)\n",
            "Requirement already satisfied: cycler>=0.10 in /home/sardelean/anaconda3/envs/ml/lib/python3.11/site-packages (from matplotlib) (0.12.1)\n",
            "Requirement already satisfied: fonttools>=4.22.0 in /home/sardelean/anaconda3/envs/ml/lib/python3.11/site-packages (from matplotlib) (4.46.0)\n",
            "Requirement already satisfied: kiwisolver>=1.3.1 in /home/sardelean/anaconda3/envs/ml/lib/python3.11/site-packages (from matplotlib) (1.4.5)\n",
            "Requirement already satisfied: numpy<2,>=1.21 in /home/sardelean/anaconda3/envs/ml/lib/python3.11/site-packages (from matplotlib) (1.26.2)\n",
            "Requirement already satisfied: packaging>=20.0 in /home/sardelean/anaconda3/envs/ml/lib/python3.11/site-packages (from matplotlib) (23.2)\n",
            "Requirement already satisfied: pillow>=8 in /home/sardelean/anaconda3/envs/ml/lib/python3.11/site-packages (from matplotlib) (10.1.0)\n",
            "Requirement already satisfied: pyparsing>=2.3.1 in /home/sardelean/anaconda3/envs/ml/lib/python3.11/site-packages (from matplotlib) (3.1.1)\n",
            "Requirement already satisfied: python-dateutil>=2.7 in /home/sardelean/anaconda3/envs/ml/lib/python3.11/site-packages (from matplotlib) (2.8.2)\n",
            "Requirement already satisfied: six>=1.5 in /home/sardelean/anaconda3/envs/ml/lib/python3.11/site-packages (from python-dateutil>=2.7->matplotlib) (1.16.0)\n",
            "Note: you may need to restart the kernel to use updated packages.\n"
          ]
        }
      ],
      "source": [
        "pip install matplotlib"
      ]
    },
    {
      "cell_type": "code",
      "execution_count": null,
      "id": "9d863d49-093e-4d78-a5a8-781667b9e4ad",
      "metadata": {
        "id": "9d863d49-093e-4d78-a5a8-781667b9e4ad",
        "outputId": "c2fbb3d1-6af1-462b-9035-d44f8d0327cb"
      },
      "outputs": [
        {
          "data": {
            "text/plain": [
              "<matplotlib.collections.PathCollection at 0x7fc6a4b87fd0>"
            ]
          },
          "execution_count": 59,
          "metadata": {},
          "output_type": "execute_result"
        },
        {
          "data": {
            "image/png": "[encoded data removed]",
            "text/plain": [
              "<Figure size 640x480 with 1 Axes>"
            ]
          },
          "metadata": {},
          "output_type": "display_data"
        }
      ],
      "source": [
        "import matplotlib.pyplot as plt\n",
        "plt.scatter(flights['PricePerTicket'], flights['Miles'])"
      ]
    },
    {
      "cell_type": "code",
      "execution_count": null,
      "id": "86573c3e-ae0b-487b-b3d5-85058c182abb",
      "metadata": {
        "id": "86573c3e-ae0b-487b-b3d5-85058c182abb"
      },
      "outputs": [],
      "source": []
    }
  ],
  "metadata": {
    "kernelspec": {
      "display_name": "Python 3 (ipykernel)",
      "language": "python",
      "name": "python3"
    },
    "language_info": {
      "codemirror_mode": {
        "name": "ipython",
        "version": 3
      },
      "file_extension": ".py",
      "mimetype": "text/x-python",
      "name": "python",
      "nbconvert_exporter": "python",
      "pygments_lexer": "ipython3",
      "version": "3.11.5"
    },
    "colab": {
      "provenance": []
    }
  },
  "nbformat": 4,
  "nbformat_minor": 5
}